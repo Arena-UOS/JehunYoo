{
 "cells": [
  {
   "cell_type": "code",
   "execution_count": 1,
   "metadata": {},
   "outputs": [],
   "source": [
    "import numpy as np\n",
    "import pandas as pd\n",
    "from simKNN import SimKNN"
   ]
  },
  {
   "cell_type": "code",
   "execution_count": 2,
   "metadata": {
    "scrolled": true
   },
   "outputs": [
    {
     "name": "stdout",
     "output_type": "stream",
     "text": [
      "CPU times: user 10.6 s, sys: 1.01 s, total: 11.6 s\n",
      "Wall time: 11.7 s\n"
     ]
    }
   ],
   "source": [
    "%%time\n",
    "song = pd.read_json(\"res/song_meta.json\")[[\"id\", \"song_name\", \"artist_id_basket\", \"artist_name_basket\",\\\n",
    "                                            \"album_id\", \"album_name\", \"song_gn_gnr_basket\",\\\n",
    "                                            \"song_gn_dtl_gnr_basket\", \"issue_date\"]]\n",
    "# genre = pd.read_json(\"res/genre_gn_all.json\", typ=\"series\")\n",
    "train = pd.read_json(\"res/train.json\")[[\"id\", \"plylst_title\", \"songs\", \"tags\", \"like_cnt\", \"updt_date\"]]\n",
    "# val = pd.read_json(\"res/val.json\")[[\"id\", \"plylst_title\", \"songs\", \"tags\", \"like_cnt\", \"updt_date\"]]\n",
    "test = pd.read_json(\"res/test.json\")[[\"id\", \"plylst_title\", \"songs\", \"tags\", \"like_cnt\", \"updt_date\"]]\n",
    "# display(song, genre, train, val, test)"
   ]
  },
  {
   "cell_type": "code",
   "execution_count": 3,
   "metadata": {
    "scrolled": true
   },
   "outputs": [
    {
     "data": {
      "text/html": [
       "<div>\n",
       "<style scoped>\n",
       "    .dataframe tbody tr th:only-of-type {\n",
       "        vertical-align: middle;\n",
       "    }\n",
       "\n",
       "    .dataframe tbody tr th {\n",
       "        vertical-align: top;\n",
       "    }\n",
       "\n",
       "    .dataframe thead th {\n",
       "        text-align: right;\n",
       "    }\n",
       "</style>\n",
       "<table border=\"1\" class=\"dataframe\">\n",
       "  <thead>\n",
       "    <tr style=\"text-align: right;\">\n",
       "      <th></th>\n",
       "      <th>id</th>\n",
       "      <th>songs</th>\n",
       "    </tr>\n",
       "  </thead>\n",
       "  <tbody>\n",
       "    <tr>\n",
       "      <th>0</th>\n",
       "      <td>61281</td>\n",
       "      <td>[525514, 129701, 383374, 562083, 297861, 13954...</td>\n",
       "    </tr>\n",
       "    <tr>\n",
       "      <th>1</th>\n",
       "      <td>10532</td>\n",
       "      <td>[432406, 675945, 497066, 120377, 389529, 24427...</td>\n",
       "    </tr>\n",
       "    <tr>\n",
       "      <th>2</th>\n",
       "      <td>76951</td>\n",
       "      <td>[83116, 276692, 166267, 186301, 354465, 256598...</td>\n",
       "    </tr>\n",
       "    <tr>\n",
       "      <th>3</th>\n",
       "      <td>147456</td>\n",
       "      <td>[394031, 195524, 540149, 287984, 440773, 10033...</td>\n",
       "    </tr>\n",
       "    <tr>\n",
       "      <th>4</th>\n",
       "      <td>27616</td>\n",
       "      <td>[159327, 553610, 5130, 645103, 294435, 100657,...</td>\n",
       "    </tr>\n",
       "    <tr>\n",
       "      <th>...</th>\n",
       "      <td>...</td>\n",
       "      <td>...</td>\n",
       "    </tr>\n",
       "    <tr>\n",
       "      <th>115066</th>\n",
       "      <td>120325</td>\n",
       "      <td>[429629, 441511, 612106, 516359, 691768, 38714...</td>\n",
       "    </tr>\n",
       "    <tr>\n",
       "      <th>115067</th>\n",
       "      <td>106976</td>\n",
       "      <td>[321330, 216057, 534472, 240306, 331098, 23288...</td>\n",
       "    </tr>\n",
       "    <tr>\n",
       "      <th>115068</th>\n",
       "      <td>11343</td>\n",
       "      <td>[50512, 249024, 250608, 371171, 229942, 694943...</td>\n",
       "    </tr>\n",
       "    <tr>\n",
       "      <th>115069</th>\n",
       "      <td>131982</td>\n",
       "      <td>[533534, 608114, 343608, 417140, 609009, 30217...</td>\n",
       "    </tr>\n",
       "    <tr>\n",
       "      <th>115070</th>\n",
       "      <td>100389</td>\n",
       "      <td>[26008, 456354, 324105, 89871, 135272, 143548,...</td>\n",
       "    </tr>\n",
       "  </tbody>\n",
       "</table>\n",
       "<p>115071 rows × 2 columns</p>\n",
       "</div>"
      ],
      "text/plain": [
       "            id                                              songs\n",
       "0        61281  [525514, 129701, 383374, 562083, 297861, 13954...\n",
       "1        10532  [432406, 675945, 497066, 120377, 389529, 24427...\n",
       "2        76951  [83116, 276692, 166267, 186301, 354465, 256598...\n",
       "3       147456  [394031, 195524, 540149, 287984, 440773, 10033...\n",
       "4        27616  [159327, 553610, 5130, 645103, 294435, 100657,...\n",
       "...        ...                                                ...\n",
       "115066  120325  [429629, 441511, 612106, 516359, 691768, 38714...\n",
       "115067  106976  [321330, 216057, 534472, 240306, 331098, 23288...\n",
       "115068   11343  [50512, 249024, 250608, 371171, 229942, 694943...\n",
       "115069  131982  [533534, 608114, 343608, 417140, 609009, 30217...\n",
       "115070  100389  [26008, 456354, 324105, 89871, 135272, 143548,...\n",
       "\n",
       "[115071 rows x 2 columns]"
      ]
     },
     "metadata": {},
     "output_type": "display_data"
    },
    {
     "data": {
      "text/html": [
       "<div>\n",
       "<style scoped>\n",
       "    .dataframe tbody tr th:only-of-type {\n",
       "        vertical-align: middle;\n",
       "    }\n",
       "\n",
       "    .dataframe tbody tr th {\n",
       "        vertical-align: top;\n",
       "    }\n",
       "\n",
       "    .dataframe thead th {\n",
       "        text-align: right;\n",
       "    }\n",
       "</style>\n",
       "<table border=\"1\" class=\"dataframe\">\n",
       "  <thead>\n",
       "    <tr style=\"text-align: right;\">\n",
       "      <th></th>\n",
       "      <th>id</th>\n",
       "      <th>songs</th>\n",
       "    </tr>\n",
       "  </thead>\n",
       "  <tbody>\n",
       "    <tr>\n",
       "      <th>0</th>\n",
       "      <td>70107</td>\n",
       "      <td>[398985, 449403, 411543, 528044, 143048, 98020...</td>\n",
       "    </tr>\n",
       "    <tr>\n",
       "      <th>1</th>\n",
       "      <td>7461</td>\n",
       "      <td>[196298, 269984, 267805, 175867, 529244, 63825...</td>\n",
       "    </tr>\n",
       "    <tr>\n",
       "      <th>2</th>\n",
       "      <td>90348</td>\n",
       "      <td>[273433, 331003, 68432, 411659, 117793, 616860...</td>\n",
       "    </tr>\n",
       "    <tr>\n",
       "      <th>3</th>\n",
       "      <td>58617</td>\n",
       "      <td>[702227, 48152, 440008, 358488, 701041, 540721...</td>\n",
       "    </tr>\n",
       "    <tr>\n",
       "      <th>4</th>\n",
       "      <td>102395</td>\n",
       "      <td>[630683, 481582, 528550, 285114, 506667, 17922...</td>\n",
       "    </tr>\n",
       "    <tr>\n",
       "      <th>...</th>\n",
       "      <td>...</td>\n",
       "      <td>...</td>\n",
       "    </tr>\n",
       "    <tr>\n",
       "      <th>10735</th>\n",
       "      <td>137930</td>\n",
       "      <td>[323755, 397594, 445908, 570242, 221853, 20018...</td>\n",
       "    </tr>\n",
       "    <tr>\n",
       "      <th>10736</th>\n",
       "      <td>936</td>\n",
       "      <td>[105140, 582252, 199262, 422915, 547967, 48791...</td>\n",
       "    </tr>\n",
       "    <tr>\n",
       "      <th>10737</th>\n",
       "      <td>110589</td>\n",
       "      <td>[21976, 207746, 40025, 31635, 567462, 641799, ...</td>\n",
       "    </tr>\n",
       "    <tr>\n",
       "      <th>10738</th>\n",
       "      <td>2605</td>\n",
       "      <td>[234554, 265033, 507260, 83092, 366757, 497097...</td>\n",
       "    </tr>\n",
       "    <tr>\n",
       "      <th>10739</th>\n",
       "      <td>126651</td>\n",
       "      <td>[685111, 20039, 634240, 519385, 321994, 525309...</td>\n",
       "    </tr>\n",
       "  </tbody>\n",
       "</table>\n",
       "<p>10740 rows × 2 columns</p>\n",
       "</div>"
      ],
      "text/plain": [
       "           id                                              songs\n",
       "0       70107  [398985, 449403, 411543, 528044, 143048, 98020...\n",
       "1        7461  [196298, 269984, 267805, 175867, 529244, 63825...\n",
       "2       90348  [273433, 331003, 68432, 411659, 117793, 616860...\n",
       "3       58617  [702227, 48152, 440008, 358488, 701041, 540721...\n",
       "4      102395  [630683, 481582, 528550, 285114, 506667, 17922...\n",
       "...       ...                                                ...\n",
       "10735  137930  [323755, 397594, 445908, 570242, 221853, 20018...\n",
       "10736     936  [105140, 582252, 199262, 422915, 547967, 48791...\n",
       "10737  110589  [21976, 207746, 40025, 31635, 567462, 641799, ...\n",
       "10738    2605  [234554, 265033, 507260, 83092, 366757, 497097...\n",
       "10739  126651  [685111, 20039, 634240, 519385, 321994, 525309...\n",
       "\n",
       "[10740 rows x 2 columns]"
      ]
     },
     "metadata": {},
     "output_type": "display_data"
    }
   ],
   "source": [
    "data, X = train[[\"id\", \"songs\"]], test[[\"id\", \"songs\"]]\n",
    "display(data, X)"
   ]
  },
  {
   "cell_type": "code",
   "execution_count": 4,
   "metadata": {},
   "outputs": [],
   "source": [
    "# FIXME\n",
    "def pred_info(u, track_ids, relevances, song=song, test=test):\n",
    "    pd.set_option('display.max_rows', None)\n",
    "    plylst_id = test.id[u]\n",
    "    _track_ids = test.songs[u]\n",
    "    print(plylst_id)\n",
    "    pred = pd.DataFrame(song.song_name[track_ids], columns=[\"id\", \"song_name\"])\n",
    "    original = pd.DataFrame(song.song_name[_track_ids], columns=[\"id\", \"song_name\"])\n",
    "    display(pd.concat([pred, original], axis=1, ignore_index=True))"
   ]
  },
  {
   "cell_type": "code",
   "execution_count": 5,
   "metadata": {
    "scrolled": true
   },
   "outputs": [
    {
     "data": {
      "application/vnd.jupyter.widget-view+json": {
       "model_id": "edea632ee2e5457b9d6c81d95a701cba",
       "version_major": 2,
       "version_minor": 0
      },
      "text/plain": [
       "HBox(children=(FloatProgress(value=0.0, max=115071.0), HTML(value='')))"
      ]
     },
     "metadata": {},
     "output_type": "display_data"
    },
    {
     "name": "stdout",
     "output_type": "stream",
     "text": [
      "\n"
     ]
    },
    {
     "data": {
      "application/vnd.jupyter.widget-view+json": {
       "model_id": "018efc6983f54034a9f4f9d14ae0b6e8",
       "version_major": 2,
       "version_minor": 0
      },
      "text/plain": [
       "HBox(children=(FloatProgress(value=0.0, max=1.0), HTML(value='')))"
      ]
     },
     "metadata": {},
     "output_type": "display_data"
    },
    {
     "name": "stdout",
     "output_type": "stream",
     "text": [
      "\n",
      "[(0, array([227169, 305064,  45581, 695910, 387621, 472395, 254896, 331003,\n",
      "       628459, 157389, 688951, 513270, 524287, 272924, 275414, 477609,\n",
      "       474175, 534493, 489157, 395438, 622533, 187991, 544625, 179696,\n",
      "       448738, 234958, 267224, 256956, 618150,  89571, 635759,  75643,\n",
      "       311240,  72222, 228501, 365722, 602996, 631627, 374617, 286409,\n",
      "       395511, 477905, 173798, 388635, 163560, 372235, 248226, 407073,\n",
      "       609622, 426348,  54408, 190352, 225426, 455668, 130494, 482972,\n",
      "        23520, 475696, 110904, 519630, 595353, 612698, 257577, 518930,\n",
      "       254801, 298203, 684431, 561919, 424712, 331485, 351553, 154941,\n",
      "       549303, 602247, 112403, 582223, 252700, 511300, 151412, 616860,\n",
      "       640958, 555134, 656512, 591035, 144826, 209136, 671533, 307012,\n",
      "        41543,  26627, 446477, 407044, 256688, 577817, 705682, 549815,\n",
      "       632755, 297010, 378627, 401226]), array([0.21451366, 0.19908749, 0.19535191, 0.18432098, 0.14856744,\n",
      "       0.14852539, 0.14665009, 0.14044313, 0.13525036, 0.13450462,\n",
      "       0.13263109, 0.13246226, 0.13209144, 0.12775973, 0.117144  ,\n",
      "       0.11594515, 0.11253191, 0.11253191, 0.11253191, 0.11253191,\n",
      "       0.11253191, 0.11253191, 0.11230531, 0.1078044 , 0.09285881,\n",
      "       0.09283555, 0.09233497, 0.09137241, 0.09017892, 0.08855887,\n",
      "       0.08823846, 0.08802829, 0.08571761, 0.08526574, 0.08393314,\n",
      "       0.0831388 , 0.08231056, 0.08210129, 0.08204227, 0.08177539,\n",
      "       0.08177539, 0.08165571, 0.08165571, 0.08144869, 0.08144193,\n",
      "       0.08108896, 0.07971962, 0.07883819, 0.07835254, 0.07577351,\n",
      "       0.07552251, 0.07521751, 0.07502616, 0.07495507, 0.07458362,\n",
      "       0.07436134, 0.07436134, 0.07436134, 0.07436134, 0.07436134,\n",
      "       0.07436134, 0.07436134, 0.07436134, 0.07436134, 0.07436134,\n",
      "       0.07436134, 0.07436134, 0.07436134, 0.07436134, 0.07436134,\n",
      "       0.07436134, 0.07436134, 0.07436134, 0.07436134, 0.07436134,\n",
      "       0.07436134, 0.07436134, 0.07436134, 0.07436134, 0.07436134,\n",
      "       0.07436134, 0.07436134, 0.07430879, 0.07424232, 0.07286056,\n",
      "       0.0724556 , 0.07225148, 0.07224919, 0.07175744, 0.07108678,\n",
      "       0.06956269, 0.06859317, 0.06791713, 0.06719002, 0.06699605,\n",
      "       0.06699605, 0.06682236, 0.06653492, 0.0653812 , 0.06519917]))]\n"
     ]
    }
   ],
   "source": [
    "simknn = SimKNN(k=100, metric=\"idf\")\n",
    "simknn.fit(data)\n",
    "pred = simknn.predict(X, limit=1)\n",
    "print(pred)"
   ]
  },
  {
   "cell_type": "code",
   "execution_count": 7,
   "metadata": {
    "scrolled": true
   },
   "outputs": [
    {
     "data": {
      "application/vnd.jupyter.widget-view+json": {
       "model_id": "79bcaf5707d441088b2025814c284494",
       "version_major": 2,
       "version_minor": 0
      },
      "text/plain": [
       "HBox(children=(FloatProgress(value=0.0, max=1.0), HTML(value='')))"
      ]
     },
     "metadata": {},
     "output_type": "display_data"
    },
    {
     "name": "stdout",
     "output_type": "stream",
     "text": [
      "\n",
      "[(0, array([374617, 688951, 305064, 566257,  45581, 635759, 249594, 524287,\n",
      "        80103, 227169, 228501, 579592, 275414, 544625, 477609, 163560,\n",
      "       387621, 272924,  24221, 254896, 331003,  15958, 307012, 232305,\n",
      "       318871, 609247, 695910, 472395, 297010, 631627, 225426, 144826,\n",
      "       465471, 513270, 232224, 474175, 157389, 395438, 489157, 622533,\n",
      "       187991, 534493, 329634, 541219, 602629, 609622, 138031, 388635,\n",
      "       628459, 120626, 293024, 115765,   7749, 477905, 371829, 101388,\n",
      "       656512, 445084, 553894,   8763, 543751, 637303, 234958,  37235,\n",
      "         1546, 311834, 185513, 311240, 555134, 130275, 679405, 109190,\n",
      "        15846, 632755, 407044, 284696, 644455, 425758, 618150, 388487,\n",
      "       413823, 274716,   7837, 303268, 254801, 405542, 155016, 407073,\n",
      "        54408, 481045,  89571, 386822, 302604, 148788, 221986, 703596,\n",
      "       181369, 264701, 237407, 486768]), array([0.25800223, 0.23646837, 0.21265428, 0.19829843, 0.19353048,\n",
      "       0.17944714, 0.16766213, 0.16347714, 0.15116877, 0.1503471 ,\n",
      "       0.14995015, 0.14983005, 0.14195291, 0.14086144, 0.13576061,\n",
      "       0.13105445, 0.12790945, 0.12710731, 0.12666283, 0.11827321,\n",
      "       0.11524977, 0.11439085, 0.11197079, 0.11174937, 0.10902707,\n",
      "       0.10879088, 0.10876974, 0.10876974, 0.10862573, 0.10731091,\n",
      "       0.10726582, 0.10693775, 0.10598002, 0.10553291, 0.10256   ,\n",
      "       0.10186544, 0.10186544, 0.10186544, 0.10186544, 0.10186544,\n",
      "       0.10186544, 0.10186544, 0.10163731, 0.10134783, 0.10018124,\n",
      "       0.09994277, 0.09891732, 0.09881182, 0.09782229, 0.0976339 ,\n",
      "       0.09585984, 0.09453686, 0.09453197, 0.09251106, 0.0915051 ,\n",
      "       0.0911462 , 0.09111847, 0.09041308, 0.09030757, 0.08902391,\n",
      "       0.08834075, 0.08828369, 0.08745401, 0.08701779, 0.08693121,\n",
      "       0.08690373, 0.08603202, 0.0855372 , 0.0852001 , 0.0850917 ,\n",
      "       0.08428116, 0.08372979, 0.08355131, 0.08346115, 0.08332328,\n",
      "       0.08310141, 0.08288715, 0.08267654, 0.08260575, 0.08242103,\n",
      "       0.08098815, 0.08059166, 0.08055174, 0.07921754, 0.07645246,\n",
      "       0.0761493 , 0.07592662, 0.07579525, 0.07574043, 0.07553975,\n",
      "       0.07505386, 0.07498043, 0.07461405, 0.07426632, 0.07414688,\n",
      "       0.07411604, 0.07396547, 0.07356773, 0.07351544, 0.07351263]))]\n"
     ]
    }
   ],
   "source": [
    "simknn2 = SimKNN(k=100)\n",
    "simknn2.fit(data)\n",
    "pred2 = simknn2.predict(X, limit=1)\n",
    "print(pred2)"
   ]
  },
  {
   "cell_type": "code",
   "execution_count": 21,
   "metadata": {},
   "outputs": [],
   "source": [
    "u, t1, rel1 = pred[0]\n",
    "u2, t2, rel2 = pred2[0]\n",
    "_track_ids = test.songs[u]"
   ]
  },
  {
   "cell_type": "code",
   "execution_count": 25,
   "metadata": {},
   "outputs": [
    {
     "data": {
      "text/plain": [
       "array([ 45581,  54408,  89571, 144826, 157389, 163560, 187991, 225426,\n",
       "       227169, 228501, 234958, 254801, 254896, 272924, 275414, 297010,\n",
       "       305064, 307012, 311240, 331003, 374617, 387621, 388635, 395438,\n",
       "       407044, 407073, 472395, 474175, 477609, 477905, 489157, 513270,\n",
       "       524287, 534493, 544625, 555134, 609622, 618150, 622533, 628459,\n",
       "       631627, 632755, 635759, 656512, 688951, 695910])"
      ]
     },
     "execution_count": 25,
     "metadata": {},
     "output_type": "execute_result"
    }
   ],
   "source": [
    "common = np.intersect1d(t1, t2)\n",
    "common"
   ]
  },
  {
   "cell_type": "code",
   "execution_count": 34,
   "metadata": {
    "scrolled": true
   },
   "outputs": [
    {
     "name": "stdout",
     "output_type": "stream",
     "text": [
      "from cosine to idf\n",
      "45581: 4 -> 2 // up // diff=2\n",
      "54408: 88 -> 50 // up // diff=38\n",
      "89571: 90 -> 29 // up // diff=61\n",
      "144826: 31 -> 84 // down // diff=-53\n",
      "157389: 36 -> 9 // up // diff=27\n",
      "163560: 15 -> 44 // down // diff=-29\n",
      "187991: 40 -> 21 // up // diff=19\n",
      "225426: 30 -> 52 // down // diff=-22\n",
      "227169: 9 -> 0 // up // diff=9\n",
      "228501: 10 -> 34 // down // diff=-24\n",
      "234958: 62 -> 25 // up // diff=37\n",
      "254801: 84 -> 64 // up // diff=20\n",
      "254896: 19 -> 6 // up // diff=13\n",
      "272924: 17 -> 13 // up // diff=4\n",
      "275414: 12 -> 14 // down // diff=-2\n",
      "297010: 28 -> 97 // down // diff=-69\n",
      "305064: 2 -> 1 // up // diff=1\n",
      "307012: 22 -> 87 // down // diff=-65\n",
      "311240: 67 -> 32 // up // diff=35\n",
      "331003: 20 -> 7 // up // diff=13\n",
      "374617: 0 -> 38 // down // diff=-38\n",
      "387621: 16 -> 4 // up // diff=12\n",
      "388635: 47 -> 43 // up // diff=4\n",
      "395438: 37 -> 19 // up // diff=18\n",
      "407044: 74 -> 91 // down // diff=-17\n",
      "407073: 87 -> 47 // up // diff=40\n",
      "472395: 27 -> 5 // up // diff=22\n",
      "474175: 35 -> 16 // up // diff=19\n",
      "477609: 14 -> 15 // down // diff=-1\n",
      "477905: 53 -> 41 // up // diff=12\n",
      "489157: 38 -> 18 // up // diff=20\n",
      "513270: 33 -> 11 // up // diff=22\n",
      "524287: 7 -> 12 // down // diff=-5\n",
      "534493: 41 -> 17 // up // diff=24\n",
      "544625: 13 -> 22 // down // diff=-9\n",
      "555134: 68 -> 81 // down // diff=-13\n",
      "609622: 45 -> 48 // down // diff=-3\n",
      "618150: 78 -> 28 // up // diff=50\n",
      "622533: 39 -> 20 // up // diff=19\n",
      "628459: 48 -> 8 // up // diff=40\n",
      "631627: 29 -> 37 // down // diff=-8\n",
      "632755: 73 -> 96 // down // diff=-23\n",
      "635759: 5 -> 30 // down // diff=-25\n",
      "656512: 56 -> 82 // down // diff=-26\n",
      "688951: 1 -> 10 // down // diff=-9\n",
      "695910: 26 -> 3 // up // diff=23\n"
     ]
    }
   ],
   "source": [
    "c1 = [np.where(t1 == i)[0][0] for i in common]\n",
    "c2 = [np.where(t2 == i)[0][0] for i in common]\n",
    "print(\"from cosine to idf\")\n",
    "for i, v in enumerate(common):\n",
    "    if c2[i] > c1[i]:\n",
    "        change = \"up\"\n",
    "    elif c2[i] < c1[i]:\n",
    "        change = \"down\"\n",
    "    else:\n",
    "        change = \"same\"\n",
    "    print(\"{}: {} -> {} // {} // diff={}\".format(v, c2[i], c1[i], change, c2[i] - c1[i]))"
   ]
  },
  {
   "cell_type": "code",
   "execution_count": 43,
   "metadata": {
    "scrolled": true
   },
   "outputs": [
    {
     "name": "stdout",
     "output_type": "stream",
     "text": [
      "[list(['GN2500', 'GN0200'])]\n",
      "[list(['GN0300'])]\n",
      "[list(['GN0300'])]\n",
      "[list(['GN2500', 'GN0200'])]\n",
      "[list(['GN2500', 'GN0200'])]\n",
      "[list(['GN1500'])]\n",
      "[list(['GN2500', 'GN0200'])]\n",
      "[list(['GN0200'])]\n",
      "[list(['GN0200'])]\n",
      "[list(['GN2500', 'GN0200'])]\n",
      "[list(['GN0300'])]\n",
      "[list(['GN0200'])]\n",
      "[list(['GN0300'])]\n",
      "[list(['GN0300'])]\n",
      "[list(['GN0300'])]\n",
      "[list(['GN0100'])]\n",
      "[list(['GN2500', 'GN0200'])]\n",
      "[list(['GN0300'])]\n",
      "[list(['GN0500', 'GN0300'])]\n",
      "[list(['GN0100'])]\n",
      "[list(['GN0300'])]\n",
      "[list(['GN1900'])]\n",
      "[list(['GN2500', 'GN0200'])]\n",
      "[list(['GN0400', 'GN2500'])]\n",
      "[list(['GN2500', 'GN0200'])]\n",
      "[list(['GN2500', 'GN0100'])]\n",
      "[list(['GN1200'])]\n",
      "[list(['GN2500', 'GN0100'])]\n",
      "[list(['GN0300'])]\n",
      "[list(['GN0300'])]\n",
      "[list(['GN0300'])]\n",
      "[list(['GN2500', 'GN0100'])]\n",
      "[list(['GN2500', 'GN0200'])]\n",
      "[list(['GN0900'])]\n",
      "[list(['GN0300'])]\n",
      "[list(['GN0300'])]\n",
      "[list(['GN2500', 'GN0200'])]\n",
      "[list(['GN0500', 'GN0300'])]\n",
      "[list(['GN0300'])]\n",
      "[list(['GN2600'])]\n",
      "[list(['GN0100'])]\n",
      "[list(['GN0400'])]\n",
      "[list(['GN0500', 'GN0800'])]\n",
      "[list(['GN2500', 'GN0200'])]\n",
      "[list(['GN0300'])]\n",
      "[list(['GN2500', 'GN0200'])]\n",
      "[list(['GN2500', 'GN0200'])]\n",
      "[list(['GN0100'])]\n",
      "[list(['GN2500', 'GN0200'])]\n",
      "[list(['GN0100'])]\n",
      "[list(['GN0300'])]\n",
      "[list(['GN2500', 'GN0300'])]\n",
      "[list(['GN2500', 'GN0200'])]\n",
      "[list(['GN0200'])]\n",
      "[list(['GN2500', 'GN0200'])]\n",
      "[list(['GN0400'])]\n",
      "[list(['GN0100'])]\n",
      "[list(['GN0900'])]\n",
      "[list(['GN0600'])]\n",
      "[list(['GN2500', 'GN0200'])]\n",
      "[list(['GN0300'])]\n",
      "[list(['GN0300'])]\n",
      "[list(['GN0200'])]\n",
      "[list(['GN1500', 'GN0100'])]\n",
      "[list(['GN0100'])]\n",
      "[list(['GN0900'])]\n",
      "[list(['GN0300'])]\n",
      "[list(['GN0300'])]\n",
      "[list(['GN0200'])]\n",
      "[list(['GN0100'])]\n",
      "[list(['GN0100'])]\n",
      "[list(['GN0900'])]\n",
      "[list(['GN0100'])]\n",
      "[list(['GN0900'])]\n",
      "[list(['GN0100'])]\n",
      "[list(['GN0200'])]\n",
      "[list(['GN0400'])]\n",
      "[list(['GN1000'])]\n",
      "[list(['GN0900'])]\n",
      "[list(['GN2500', 'GN0200'])]\n",
      "[list(['GN1000'])]\n",
      "[list(['GN0300'])]\n",
      "[list(['GN0300'])]\n",
      "[list(['GN2500', 'GN0200'])]\n",
      "[list(['GN2500', 'GN0200'])]\n",
      "[list(['GN2500', 'GN0200'])]\n",
      "[list(['GN2500', 'GN0200'])]\n",
      "[list(['GN0200'])]\n",
      "[list(['GN2500', 'GN0200'])]\n",
      "[list(['GN0200'])]\n",
      "[list(['GN2500', 'GN0200'])]\n",
      "[list(['GN2500', 'GN0200'])]\n",
      "[list(['GN2500', 'GN0100'])]\n",
      "[list(['GN0300'])]\n",
      "[list(['GN0500', 'GN2600'])]\n",
      "[list(['GN0100'])]\n",
      "[list(['GN2500', 'GN0200'])]\n",
      "[list(['GN0300'])]\n",
      "[list(['GN2500', 'GN0200'])]\n",
      "[list(['GN2500', 'GN0200'])]\n"
     ]
    }
   ],
   "source": [
    "for t in t1:\n",
    "    print(song[song.id == t].song_gn_gnr_basket.values)"
   ]
  },
  {
   "cell_type": "code",
   "execution_count": 7,
   "metadata": {},
   "outputs": [
    {
     "name": "stdout",
     "output_type": "stream",
     "text": [
      "227169                                          이럴 줄 알았어\n",
      "305064                                 Solo (Feat. Alex)\n",
      "45581                                                답답해\n",
      "695910                                            내가 아니야\n",
      "387621                                      I Don`t Care\n",
      "472395                                              미운사람\n",
      "254896                                          Hate You\n",
      "331003                                 사랑과 전쟁 (Narr. 하하)\n",
      "628459                                   있잖아 (Rock Ver.)\n",
      "157389                                              미치겠어\n",
      "688951              ? (물음표) (Feat. 최자 Of 다이나믹듀오, Zion.T)\n",
      "513270                                               Boo\n",
      "524287                     Love (Feat. Bumkey, Paloalto)\n",
      "272924                            Gone (Feat. 주희 Of 에이트)\n",
      "275414                            Officially Missing You\n",
      "477609                                             사고쳤어요\n",
      "474175                                            Baby U\n",
      "534493          시간이 날 기다려 (Tik Tok) (Feat. Swings & 임성현)\n",
      "489157               Leaving (Feat. Bumkey) (Clean Ver.)\n",
      "395438                                               복숭아\n",
      "622533                                  사랑해 (Radio Edit)\n",
      "187991                                We Belong Together\n",
      "544625                                              Fire\n",
      "179696                    I Need A Girl (Feat. G-dragon)\n",
      "448738                                             Shock\n",
      "234958                                               그XX\n",
      "267224                              Love (Re:Plus Remix)\n",
      "256956                                             로맨틱하게\n",
      "618150    왜 벌써가 (Be My Brownie) (Feat. Bumky Of Komplex)\n",
      "89571                                      해뜰때까지만 (Girl)\n",
      "635759                                          Aqua Man\n",
      "75643                                              Oasis\n",
      "311240                                TTL (Time To Love)\n",
      "72222                                            TiK ToK\n",
      "228501                           굿모닝 (Feat. 권정열 Of 10cm)\n",
      "365722                약속해 약속해 2012 (Feat. 조현아 Of 어반 자카파)\n",
      "602996                                        Pretty Boy\n",
      "631627                     음악하는 남자친구 (Feat. Kuan & 세렝게티)\n",
      "374617                            자니 (Feat. Dynamic Duo)\n",
      "286409                                Do It! (Feat. 이윤정)\n",
      "395511                                              I Do\n",
      "477905                                            그날에 우리\n",
      "173798                                      사랑은 은하수 다방에서\n",
      "388635                                               미스터\n",
      "163560                      멘트 (Feat. 개코 Of Dynamic Duo)\n",
      "372235                                      Can`t Nobody\n",
      "248226                                           Go Away\n",
      "407073                                             Blind\n",
      "609622                                             Muzik\n",
      "426348                                         Real Eyes\n",
      "54408                                                  Y\n",
      "190352                                We Belong Together\n",
      "225426                                         YOU AND I\n",
      "455668                                              좋은 날\n",
      "130494                                      Heartbreaker\n",
      "482972                                         I Believe\n",
      "23520                                             비밀의 화원\n",
      "475696                                       Billy Brown\n",
      "110904                                             Radio\n",
      "519630                                      女友 (그녀들의 수다)\n",
      "595353                                홀로 크리스마스 (With 나비)\n",
      "612698                           Soul Music (Feat. Alex)\n",
      "257577                       Get 2 Know (Feat. Double K)\n",
      "518930                                         깊은 밤을 날아서\n",
      "254801                                        It Was You\n",
      "298203                                   Stars Are Blind\n",
      "684431                                               라이타\n",
      "561919                              J에게 (Feat. Little S)\n",
      "424712                           난 좀 놀 줄 아는걸 (Feat. 이수정)\n",
      "331485                                              완소그대\n",
      "351553                                          널 붙잡을 노래\n",
      "154941                                        Wind It Up\n",
      "549303                                사랑해... (Feat. 알렉스)\n",
      "602247                                           L.O.V.E\n",
      "112403                                          나도 여자랍니다\n",
      "582223                                 연애의 정석 (Feat. TK)\n",
      "252700                                          Timeless\n",
      "511300                                   Makes Me Wonder\n",
      "151412                Hips Don`t Lie (Feat. Wyclef Jean)\n",
      "616860                                  오아시스 (Feat. 이재훈)\n",
      "640958            Walking On Sunshine (Original Version)\n",
      "555134                 출첵 (Feat. 나얼 For Brown Eyed Soul)\n",
      "656512                                  연애 (Feat. Hanyi)\n",
      "591035                                           Fiction\n",
      "144826                                              Diva\n",
      "209136                                               피어나\n",
      "671533                                              UGLY\n",
      "307012                                  아저씨 (Feat. 제이레빗)\n",
      "41543                                            Mystery\n",
      "26627                          내 귀에 캔디 (Feat. 택연 Of 2PM)\n",
      "446477                                 Midnight (별 헤는 밤)\n",
      "407044                                       Abracadabra\n",
      "256688                   A Bitter Day (Feat. 용준형 & G.NA)\n",
      "577817                            Tell Me Why (Feat. 화영)\n",
      "705682                                               왕자님\n",
      "549815                                  Hurt (Feat. 업타운)\n",
      "632755                                          Lollipop\n",
      "297010                                     참고 살아 (be...)\n",
      "378627                                    립스틱 (LIPSTICK)\n",
      "401226                                        I Love You\n",
      "Name: song_name, dtype: object\n",
      "398985                           시간아 멈춰라\n",
      "449403    믿어줄래 (Full Melody Korean Ver.)\n",
      "411543                              Kiss\n",
      "528044                          니가 제일 좋아\n",
      "143048                          그 남자는 반대\n",
      "98020                 Somebody Loves You\n",
      "316600              Perhaps Love (사랑인가요)\n",
      "621133    톡톡 (Original Ver.) (Feat. 김범수)\n",
      "674580               친구는 그만해 (With. STi)\n",
      "205149        우리 변한거잖아 (With 임슬옹 Of 2AM)\n",
      "199134               거기서거기 (Without You)\n",
      "347303                    Boogie On & On\n",
      "394079                        Dream Girl\n",
      "551588                              달빛바다\n",
      "346913    The Lady (Feat. Bumkey & Dok2)\n",
      "534183                           Pandora\n",
      "169026                         SEXY LOVE\n",
      "377279                         Baby Girl\n",
      "454218                     죽일 놈 (Guilty)\n",
      "271922                          Bad Girl\n",
      "179503                  Hello (Feat. 다라)\n",
      "225247                              텔레파시\n",
      "153362                    Insomnia (불면증)\n",
      "148992                              8282\n",
      "489337               커피를 마시고 (Main Ver.)\n",
      "552203                       In The Club\n",
      "231614                    Let`s Go Party\n",
      "559041          입장정리 (Feat. 최자, Simon D)\n",
      "Name: song_name, dtype: object\n"
     ]
    }
   ],
   "source": [
    "# pd.set_option('display.max_rows', None)\n",
    "u, track_ids, relevances = pred[0]\n",
    "_track_ids = test.songs[u]\n",
    "print(song.song_name[track_ids])\n",
    "print(song.song_name[_track_ids])"
   ]
  },
  {
   "cell_type": "code",
   "execution_count": null,
   "metadata": {
    "scrolled": true
   },
   "outputs": [],
   "source": [
    "%%time\n",
    "u, track_ids, relevances = next(pred)\n",
    "# pred_info(u, track_ids, relevances)\n",
    "_track_ids = test.songs[u]\n",
    "song.song_name[track_ids], song.song_name[_track_ids]\n",
    "# display 해주는 함수 만들기\n",
    "# 겹치는 노래 제외해야 함\n",
    "# html"
   ]
  },
  {
   "cell_type": "code",
   "execution_count": 12,
   "metadata": {},
   "outputs": [
    {
     "data": {
      "text/plain": [
       "[112418, 363240, 75991, 386495, 22061]"
      ]
     },
     "execution_count": 12,
     "metadata": {},
     "output_type": "execute_result"
    }
   ],
   "source": [
    "size = int(data.shape[0] * (1 - 0.3))\n",
    "x = data.iloc[size:, :]\n",
    "x.songs[:]"
   ]
  }
 ],
 "metadata": {
  "kernelspec": {
   "display_name": "Python 3",
   "language": "python",
   "name": "python3"
  },
  "language_info": {
   "codemirror_mode": {
    "name": "ipython",
    "version": 3
   },
   "file_extension": ".py",
   "mimetype": "text/x-python",
   "name": "python",
   "nbconvert_exporter": "python",
   "pygments_lexer": "ipython3",
   "version": "3.7.6"
  },
  "varInspector": {
   "cols": {
    "lenName": 16,
    "lenType": 16,
    "lenVar": 40
   },
   "kernels_config": {
    "python": {
     "delete_cmd_postfix": "",
     "delete_cmd_prefix": "del ",
     "library": "var_list.py",
     "varRefreshCmd": "print(var_dic_list())"
    },
    "r": {
     "delete_cmd_postfix": ") ",
     "delete_cmd_prefix": "rm(",
     "library": "var_list.r",
     "varRefreshCmd": "cat(var_dic_list()) "
    }
   },
   "types_to_exclude": [
    "module",
    "function",
    "builtin_function_or_method",
    "instance",
    "_Feature"
   ],
   "window_display": false
  }
 },
 "nbformat": 4,
 "nbformat_minor": 4
}
